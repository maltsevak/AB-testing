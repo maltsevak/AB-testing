{
 "cells": [
  {
   "cell_type": "code",
   "execution_count": 1,
   "id": "09653390",
   "metadata": {},
   "outputs": [],
   "source": [
    "import pandas as pd\n",
    "import pandahouse\n",
    "import seaborn as sns\n",
    "import numpy as np\n",
    "from scipy import stats #статистика"
   ]
  },
  {
   "cell_type": "code",
   "execution_count": 2,
   "id": "39d59f0b",
   "metadata": {},
   "outputs": [],
   "source": [
    "connection = {\n",
    "    'host': 'https://clickhouse.lab.karpov.courses',\n",
    "    'password': 'dpo_python_2020',\n",
    "    'user': 'student',\n",
    "    'database': 'simulator_20230720'\n",
    "}"
   ]
  },
  {
   "cell_type": "markdown",
   "id": "d1e6d413",
   "metadata": {},
   "source": [
    "## AA-тест"
   ]
  },
  {
   "cell_type": "code",
   "execution_count": 3,
   "id": "2065a4c8",
   "metadata": {},
   "outputs": [],
   "source": [
    "# Выгружаем пользователь из 2 и 3 группы для проведения АА-теста\n",
    "\n",
    "q = \"\"\"\n",
    "SELECT exp_group, \n",
    "    user_id,\n",
    "    sum(action = 'like') as likes,\n",
    "    sum(action = 'view') as views,\n",
    "    likes/views as ctr\n",
    "FROM {db}.feed_actions \n",
    "WHERE toDate(time) between '2023-06-23' and '2023-06-29'\n",
    "    and exp_group in (2,3)\n",
    "GROUP BY exp_group, user_id\n",
    "\"\"\"\n",
    "\n",
    "df = pandahouse.read_clickhouse(q, connection=connection)\n",
    "\n",
    "group_2 = df[df.exp_group == 2].copy()\n",
    "group_3 = df[df.exp_group == 3].copy()"
   ]
  },
  {
   "cell_type": "code",
   "execution_count": 4,
   "id": "8e993afa",
   "metadata": {},
   "outputs": [
    {
     "data": {
      "text/html": [
       "<div>\n",
       "<style scoped>\n",
       "    .dataframe tbody tr th:only-of-type {\n",
       "        vertical-align: middle;\n",
       "    }\n",
       "\n",
       "    .dataframe tbody tr th {\n",
       "        vertical-align: top;\n",
       "    }\n",
       "\n",
       "    .dataframe thead th {\n",
       "        text-align: right;\n",
       "    }\n",
       "</style>\n",
       "<table border=\"1\" class=\"dataframe\">\n",
       "  <thead>\n",
       "    <tr style=\"text-align: right;\">\n",
       "      <th></th>\n",
       "      <th>exp_group</th>\n",
       "      <th>user_id</th>\n",
       "      <th>likes</th>\n",
       "      <th>views</th>\n",
       "      <th>ctr</th>\n",
       "    </tr>\n",
       "  </thead>\n",
       "  <tbody>\n",
       "    <tr>\n",
       "      <th>0</th>\n",
       "      <td>3</td>\n",
       "      <td>115383</td>\n",
       "      <td>38</td>\n",
       "      <td>248</td>\n",
       "      <td>0.153226</td>\n",
       "    </tr>\n",
       "    <tr>\n",
       "      <th>1</th>\n",
       "      <td>3</td>\n",
       "      <td>10326</td>\n",
       "      <td>24</td>\n",
       "      <td>132</td>\n",
       "      <td>0.181818</td>\n",
       "    </tr>\n",
       "    <tr>\n",
       "      <th>2</th>\n",
       "      <td>3</td>\n",
       "      <td>123580</td>\n",
       "      <td>25</td>\n",
       "      <td>122</td>\n",
       "      <td>0.204918</td>\n",
       "    </tr>\n",
       "    <tr>\n",
       "      <th>3</th>\n",
       "      <td>2</td>\n",
       "      <td>131473</td>\n",
       "      <td>19</td>\n",
       "      <td>98</td>\n",
       "      <td>0.193878</td>\n",
       "    </tr>\n",
       "    <tr>\n",
       "      <th>4</th>\n",
       "      <td>2</td>\n",
       "      <td>23985</td>\n",
       "      <td>12</td>\n",
       "      <td>44</td>\n",
       "      <td>0.272727</td>\n",
       "    </tr>\n",
       "    <tr>\n",
       "      <th>...</th>\n",
       "      <td>...</td>\n",
       "      <td>...</td>\n",
       "      <td>...</td>\n",
       "      <td>...</td>\n",
       "      <td>...</td>\n",
       "    </tr>\n",
       "    <tr>\n",
       "      <th>16782</th>\n",
       "      <td>3</td>\n",
       "      <td>122008</td>\n",
       "      <td>20</td>\n",
       "      <td>123</td>\n",
       "      <td>0.162602</td>\n",
       "    </tr>\n",
       "    <tr>\n",
       "      <th>16783</th>\n",
       "      <td>2</td>\n",
       "      <td>25383</td>\n",
       "      <td>2</td>\n",
       "      <td>18</td>\n",
       "      <td>0.111111</td>\n",
       "    </tr>\n",
       "    <tr>\n",
       "      <th>16784</th>\n",
       "      <td>3</td>\n",
       "      <td>122190</td>\n",
       "      <td>15</td>\n",
       "      <td>56</td>\n",
       "      <td>0.267857</td>\n",
       "    </tr>\n",
       "    <tr>\n",
       "      <th>16785</th>\n",
       "      <td>2</td>\n",
       "      <td>108927</td>\n",
       "      <td>16</td>\n",
       "      <td>51</td>\n",
       "      <td>0.313725</td>\n",
       "    </tr>\n",
       "    <tr>\n",
       "      <th>16786</th>\n",
       "      <td>2</td>\n",
       "      <td>17310</td>\n",
       "      <td>24</td>\n",
       "      <td>75</td>\n",
       "      <td>0.320000</td>\n",
       "    </tr>\n",
       "  </tbody>\n",
       "</table>\n",
       "<p>16787 rows × 5 columns</p>\n",
       "</div>"
      ],
      "text/plain": [
       "       exp_group  user_id  likes  views       ctr\n",
       "0              3   115383     38    248  0.153226\n",
       "1              3    10326     24    132  0.181818\n",
       "2              3   123580     25    122  0.204918\n",
       "3              2   131473     19     98  0.193878\n",
       "4              2    23985     12     44  0.272727\n",
       "...          ...      ...    ...    ...       ...\n",
       "16782          3   122008     20    123  0.162602\n",
       "16783          2    25383      2     18  0.111111\n",
       "16784          3   122190     15     56  0.267857\n",
       "16785          2   108927     16     51  0.313725\n",
       "16786          2    17310     24     75  0.320000\n",
       "\n",
       "[16787 rows x 5 columns]"
      ]
     },
     "execution_count": 4,
     "metadata": {},
     "output_type": "execute_result"
    }
   ],
   "source": [
    "df"
   ]
  },
  {
   "cell_type": "code",
   "execution_count": 5,
   "id": "0e0f0e1d",
   "metadata": {},
   "outputs": [
    {
     "data": {
      "text/plain": [
       "exp_group\n",
       "2    8362\n",
       "3    8425\n",
       "Name: user_id, dtype: int64"
      ]
     },
     "execution_count": 5,
     "metadata": {},
     "output_type": "execute_result"
    }
   ],
   "source": [
    "df.groupby('exp_group').user_id.count()"
   ]
  },
  {
   "cell_type": "code",
   "execution_count": 8,
   "id": "86b92d64",
   "metadata": {},
   "outputs": [],
   "source": [
    "# Сделаем графики в seaborn \n",
    "sns.set(rc={'figure.figsize':(18,12)})"
   ]
  },
  {
   "cell_type": "code",
   "execution_count": 9,
   "id": "d674dc9d",
   "metadata": {},
   "outputs": [
    {
     "data": {
      "image/png": "[encoded data removed]",
      "text/plain": [
       "<Figure size 1296x864 with 1 Axes>"
      ]
     },
     "metadata": {},
     "output_type": "display_data"
    }
   ],
   "source": [
    "groups = sns.histplot(data = df, \n",
    "              x='ctr', \n",
    "              hue='exp_group', \n",
    "              palette = ['r', 'b'],\n",
    "              alpha=0.5,\n",
    "              kde=False)"
   ]
  },
  {
   "cell_type": "code",
   "execution_count": 10,
   "id": "36d4b64e",
   "metadata": {},
   "outputs": [
    {
     "data": {
      "text/plain": [
       "Ttest_indResult(statistic=0.6617303509169771, pvalue=0.5081531382926281)"
      ]
     },
     "execution_count": 10,
     "metadata": {},
     "output_type": "execute_result"
    }
   ],
   "source": [
    "stats.ttest_ind(df[df.exp_group == 2].ctr,\n",
    "                df[df.exp_group == 3].ctr,\n",
    "                equal_var=False)"
   ]
  },
  {
   "cell_type": "markdown",
   "id": "9946710a",
   "metadata": {},
   "source": [
    "Визуально и статистически (pvalue=0.508) группы пользователей 2 и 3 похожи/ различия допустимы"
   ]
  },
  {
   "cell_type": "markdown",
   "id": "26d61f85",
   "metadata": {},
   "source": [
    "## 10000 АА-тестов"
   ]
  },
  {
   "cell_type": "code",
   "execution_count": 11,
   "id": "59492f10",
   "metadata": {},
   "outputs": [],
   "source": [
    "# Проведем 10000 тестов на выборках по 500 пользователей в групппах 2 и 3\n",
    "# frac - доля от общего количества датафрейма (группы)\n",
    "\n",
    "ps_values = []\n",
    "\n",
    "for i in range(10000):\n",
    "    _, p_value = stats.ttest_ind(group_2.ctr.sample(frac=0.06, replace=True),\n",
    "                                group_3.ctr.sample(frac=0.06, replace=True),\n",
    "                                equal_var = False)\n",
    "    ps_values.append(p_value)"
   ]
  },
  {
   "cell_type": "code",
   "execution_count": 12,
   "id": "d1620a61",
   "metadata": {},
   "outputs": [
    {
     "data": {
      "text/plain": [
       "<seaborn.axisgrid.FacetGrid at 0x7ff8f0a8e5b0>"
      ]
     },
     "execution_count": 12,
     "metadata": {},
     "output_type": "execute_result"
    },
    {
     "data": {
      "image/png": "[encoded data removed]",
      "text/plain": [
       "<Figure size 360x360 with 1 Axes>"
      ]
     },
     "metadata": {},
     "output_type": "display_data"
    }
   ],
   "source": [
    "sns.displot(ps_values)"
   ]
  },
  {
   "cell_type": "code",
   "execution_count": 13,
   "id": "ec0d97d6",
   "metadata": {},
   "outputs": [
    {
     "data": {
      "text/plain": [
       "0.0515"
      ]
     },
     "execution_count": 13,
     "metadata": {},
     "output_type": "execute_result"
    }
   ],
   "source": [
    "# найдем количество p-value, которые меньше или равны 0,05.\n",
    "\n",
    "sum(np.array(ps_values)<=0.05)/10000"
   ]
  },
  {
   "cell_type": "markdown",
   "id": "6b96fac0",
   "metadata": {},
   "source": [
    "## Вывод\n",
    "Значения p-value распределены достаточно равномерно и около 5% p-value оказались меньше или равны 0,05. Из этого следует, что АА-тест проведен успешно, пользователи разбиты на статистически равные группы, что позволяет проводить АВ-тест на этих или других группах из этой разбивки пользователей."
   ]
  }
 ],
 "metadata": {
  "kernelspec": {
   "display_name": "Python 3 (ipykernel)",
   "language": "python",
   "name": "python3"
  },
  "language_info": {
   "codemirror_mode": {
    "name": "ipython",
    "version": 3
   },
   "file_extension": ".py",
   "mimetype": "text/x-python",
   "name": "python",
   "nbconvert_exporter": "python",
   "pygments_lexer": "ipython3",
   "version": "3.9.12"
  }
 },
 "nbformat": 4,
 "nbformat_minor": 5
}
